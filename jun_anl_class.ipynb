{
 "cells": [
  {
   "cell_type": "markdown",
   "metadata": {
    "colab_type": "text",
    "id": "RbR5OTe50Za4"
   },
   "source": [
    "# Классы\n",
    "## Домашнее задание"
   ]
  },
  {
   "cell_type": "markdown",
   "metadata": {
    "colab_type": "text",
    "id": "Xh_DBCdu0Za5"
   },
   "source": [
    "### Вопросы по лекциям\n",
    "\n",
    "#### 1.\n",
    "\n",
    "Напишите название функции, которая является конструктором класса."
   ]
  },
  {
   "cell_type": "markdown",
   "metadata": {
    "colab_type": "text",
    "id": "8-Tj4AMg0Za6"
   },
   "source": [
    "**Ответ:** __init__()"
   ]
  },
  {
   "cell_type": "markdown",
   "metadata": {
    "colab_type": "text",
    "id": "lf14yx330Za7"
   },
   "source": [
    "#### 2.\n",
    "\n",
    "На что указывает переменная `self`?"
   ]
  },
  {
   "cell_type": "markdown",
   "metadata": {
    "colab_type": "text",
    "id": "wI-0FWlF0Za8"
   },
   "source": [
    "**Ответ:** На конкретный созданный объект."
   ]
  },
  {
   "cell_type": "markdown",
   "metadata": {
    "colab_type": "text",
    "id": "j_8_O_nl0Za8"
   },
   "source": [
    "#### 3.\n",
    "С помощью какой функции можно проверить, что некая строка является именем одного из атрибутов объекта?"
   ]
  },
  {
   "cell_type": "markdown",
   "metadata": {
    "colab_type": "text",
    "id": "5h8ASTrV0Za9"
   },
   "source": [
    "**Ответ:** hasattr()"
   ]
  },
  {
   "cell_type": "markdown",
   "metadata": {
    "colab_type": "text",
    "id": "G104VWgj0Za-"
   },
   "source": [
    "#### 4.\n",
    "Когда вызывается метод `__del__`? (относительно события удаления объекта)"
   ]
  },
  {
   "cell_type": "markdown",
   "metadata": {
    "colab_type": "text",
    "id": "Ukzoyxkn0Za-"
   },
   "source": [
    "**Ответ:** Данный метод (деструктор) вызывается в самом конце удаления объекта. Если программистом данный метод переопределен, то после переопределенного вызывается системный метод, очищая пространство имён объекта."
   ]
  },
  {
   "cell_type": "markdown",
   "metadata": {
    "colab_type": "text",
    "id": "MkF-HyBM0ZbA"
   },
   "source": [
    "#### 5.\n",
    "Верно ли, что атрибут класса перекрывает атрибут объекта?"
   ]
  },
  {
   "cell_type": "markdown",
   "metadata": {
    "colab_type": "text",
    "id": "o7B52kVt0ZbC"
   },
   "source": [
    "**Ответ:** Не верно. Наоброт атрибуты объектов перекрывают атрибуты калсса."
   ]
  },
  {
   "cell_type": "markdown",
   "metadata": {
    "colab_type": "text",
    "id": "kSwZWV2B0ZbC"
   },
   "source": [
    "#### 6.\n",
    "Можно ли атрибуты базового класса вызывать в дочернем классе? Если да, то напишите, нет ли исклчений?"
   ]
  },
  {
   "cell_type": "markdown",
   "metadata": {
    "colab_type": "text",
    "id": "6i74Koih0ZbE"
   },
   "source": [
    "**Ответ:** Да, атрибуты класса можно вызвать из дочернего, если данный атрибут не скрыт (инкапсулирован) с помощью двойного подчёркивания в начале и конце наименования атрибута (\"__\")  "
   ]
  },
  {
   "cell_type": "markdown",
   "metadata": {
    "colab_type": "text",
    "id": "tl1St2O20ZbE"
   },
   "source": [
    "#### 7.\n",
    "Объясните своими словами для чего нужен метод `super`."
   ]
  },
  {
   "cell_type": "markdown",
   "metadata": {
    "colab_type": "text",
    "id": "rg3u1PoY0ZbF"
   },
   "source": [
    "**Ответ:** Метод super() нужен для обращения к атрибутам класса родителя."
   ]
  },
  {
   "cell_type": "markdown",
   "metadata": {
    "colab_type": "text",
    "id": "5AiJn8ut0ZbG"
   },
   "source": [
    "### Практика\n",
    "\n",
    "1. Напишите класс `Fraction` для работы с дробями. Пусть дробь в нашем классе предстает в виде `числитель/знаменатель`. Дробное число должно создаваться по запросу `Fraction(a, b)`, где `a` – это числитель, а `b` – знаменатель дроби. \n",
    "2. Добавьте возможность сложения (сложения через оператор сложения) для дроби. Предполагается, что операция сложения может проводиться как только между дробями, так и между дробью и целым числом. Результат операции должен быть представлен в виде дроби.\n",
    "3. Добавьте возможность взятия разности (вычитания через оператор вычитания) для дробей. Предполагается, что операция вычитания может проводиться как только для двух дробей, так и для дроби и целого числа. Результат операции должен быть представлен в виде дроби.\n",
    "4. Добавьте возможность умножения (умножения через оператор умножения) для дробей. Предполагается, что операция умножения может проводиться как только для двух дробей, так и для дроби и целого числа. Результат операции должен быть представлен в виде дроби.\n",
    "5. Добавьте возможность приведения дроби к целому числу через стандартную функцию `int()`.\n",
    "6. Добавьте возможность приведения дроби к числу с плавающей точкой через стандартную функцию `float()`.\n",
    "7. Создайте дочерний класс `OperationsOnFraction` и добавьте туда собственные методы `getint` и `getfloat`, которые будут возвращать целую часть дроби и представление дроби в виде числа с плавающей точкой соответственно. \n",
    " "
   ]
  },
  {
   "cell_type": "code",
   "execution_count": 92,
   "metadata": {
    "colab": {},
    "colab_type": "code",
    "id": "ru3BJ52J0ZbG"
   },
   "outputs": [
    {
     "name": "stdout",
     "output_type": "stream",
     "text": [
      "30/7\n",
      "-2/7\n",
      "37/7\n",
      "32/7\n",
      "30/7\n",
      "2\n",
      "2.2857142857142856\n",
      "3/2\n",
      "1\n",
      "1.5\n"
     ]
    }
   ],
   "source": [
    "### YOUR CODE HERE ###\n",
    "class Fraction():\n",
    "    \n",
    "    def __init__(self, numerator, denominator = 1): #1 - по-умолчанию для знаменетелей нужен для преобразования целых к Fraction\n",
    "        self.numerator = numerator\n",
    "        self.denominator = denominator\n",
    "        if self.numerator != 0 and self.denominator != 1: #Если дробь равна 0 или является целым числом - не пытаемся сократить\n",
    "            self.reduce() #Сокращение здесь не обязательно. Его можно выполнять отдельно, например, при возврате результата.\n",
    "    \n",
    "    def __str__(self):\n",
    "        representation = \"{}\" #Если в результате операции над дробями получится 0 или другое целое число выводим только числитель\n",
    "        if self.numerator != 0 and self.denominator != 1:\n",
    "            representation += \"/{}\"\n",
    "        return representation.format(self.numerator, self.denominator)\n",
    "    \n",
    "    #Проверка и приведение целых слагаемых к типу Fraction\n",
    "    def cast(list_args):\n",
    "        list_frac = []\n",
    "        for arg in list_args:\n",
    "            if isinstance(arg, int):\n",
    "                list_frac.append(Fraction(arg))\n",
    "            elif isinstance(arg, Fraction):\n",
    "                list_frac.append(arg)\n",
    "        return list_frac\n",
    "\n",
    "    #Функция осуществляет поиск общего кратного и возвращает дроби приведённые к общему знаменателю\n",
    "    def find_common_denominator(list_args):\n",
    "        frac1 = list_args[0]\n",
    "        frac2 = list_args[1]\n",
    "        list_frac = []\n",
    "        larger_denominator = max(frac1.denominator, frac2.denominator)\n",
    "        lesser_denominator = min(frac1.denominator, frac2.denominator)\n",
    "        #Знаменатель одной из дробей является делителем другого\n",
    "        if larger_denominator % lesser_denominator == 0:\n",
    "            for frac in list_args:\n",
    "                if frac.denominator == lesser_denominator:\n",
    "                    lesser_multiplier = larger_denominator // lesser_denominator\n",
    "                    frac.numerator *= lesser_multiplier\n",
    "                    frac.denominator *= lesser_multiplier\n",
    "                list_frac.append(frac)\n",
    "            return list_frac\n",
    "        else: #просто перемножаем знаменатели и домножаем числители\n",
    "            tmp_multiplier = frac1.denominator\n",
    "            frac1.numerator *= frac2.denominator\n",
    "            frac1.denominator *= frac2.denominator\n",
    "            frac2.numerator *= tmp_multiplier\n",
    "            frac2.denominator *= tmp_multiplier\n",
    "            return [frac1, frac2]\n",
    "\n",
    "    #Сокращение дроби\n",
    "    def reduce(self):\n",
    "        if self.numerator % self.denominator == 0:\n",
    "            self.numerator //= self.denominator\n",
    "            self.denominator = 1\n",
    "        elif self.denominator % self.numerator == 0:\n",
    "            self.denominator //= self.numerator\n",
    "            self.numerator = 1\n",
    "        else:\n",
    "            gcdenom = Fraction.gcd(abs(self.numerator), self.denominator)\n",
    "            if gcdenom != 1:\n",
    "                self.numerator //= gcdenom * ((-1) if self.numerator < 0 else 1)\n",
    "                self.denominator //= gcdenom\n",
    "        \n",
    "    #Нахождение наибольшего общего делителя двух чисел методом деления\n",
    "    def gcd(m, n):\n",
    "        larger_num = max(m, n)\n",
    "        lesser_num = min(m, n)\n",
    "        remainder = larger_num % lesser_num\n",
    "        if remainder == 0:\n",
    "            return lesser_num\n",
    "        return Fraction.gcd(remainder, lesser_num)\n",
    "    \n",
    "    def __int__(self):\n",
    "        return self.numerator // self.denominator\n",
    "        \n",
    "    def __float__(self):\n",
    "        return self.numerator / self.denominator\n",
    "    \n",
    "    def __add__(self, other):\n",
    "        #Проверка и приведение целых слагаемых к типу Fraction\n",
    "        list_frac = Fraction.cast([self, other])\n",
    "        self, other = list_frac\n",
    "        \n",
    "        #Сложение\n",
    "        if self.denominator == other.denominator: #Дроби имеют общий знаменатель, приведение не требуется\n",
    "            return Fraction(self.numerator + other.numerator, self.denominator)\n",
    "        else: #Сначала приведение к общему знаменателю, а затем рекурсия (с ней красивее, но нужно проверять производительность)\n",
    "            list_frac = Fraction.find_common_denominator(list_frac)\n",
    "            self, other = list_frac\n",
    "            return self + other\n",
    "    \n",
    "    def __sub__(self, other):\n",
    "        list_frac = Fraction.cast([self, other])\n",
    "        self, other = list_frac\n",
    "        \n",
    "        #Вычитание\n",
    "        if self.denominator == other.denominator: #Дроби имеют общий знаменатель, приведение не требуется\n",
    "            return Fraction(self.numerator - other.numerator, self.denominator)\n",
    "        else: #Сначала приведение к общему знаменателю, а затем рекурсия\n",
    "            list_frac = Fraction.find_common_denominator(list_frac)\n",
    "            self, other = list_frac\n",
    "            return self - other\n",
    "        \n",
    "    def __mul__(self, other):\n",
    "        list_frac = Fraction.cast([self, other])\n",
    "        self, other = list_frac\n",
    "        \n",
    "        #Умножение\n",
    "        return Fraction(self.numerator * other.numerator, self.denominator * other.denominator)\n",
    "    \n",
    "    def __radd__(self, other): #Использование целого в качестве первого операнда\n",
    "        if isinstance(other, int): \n",
    "            return Fraction(self.numerator + other * self.denominator, self.denominator)   \n",
    "    \n",
    "class OperationsOnFraction(Fraction):\n",
    "    \n",
    "    def getint(self):\n",
    "        return int(self)\n",
    "    \n",
    "    def getfloat(self):\n",
    "        return float(self)\n",
    "       \n",
    "    \n",
    "f1 = Fraction(2)\n",
    "f2 = Fraction(16, 7)\n",
    "print(f1 + f2)\n",
    "print(f1 - f2)\n",
    "print(f2 + 3) \n",
    "print(f1 * f2)\n",
    "print(2 + f2)\n",
    "print(int(f2))\n",
    "print(float(f2))\n",
    "f3 = OperationsOnFraction(3, 2)\n",
    "print(f3)\n",
    "print(f3.getint())\n",
    "print(f3.getfloat())\n"
   ]
  }
 ],
 "metadata": {
  "colab": {
   "collapsed_sections": [],
   "name": "jun_anl_class.ipynb",
   "provenance": []
  },
  "kernelspec": {
   "display_name": "Python 3",
   "language": "python",
   "name": "python3"
  },
  "language_info": {
   "codemirror_mode": {
    "name": "ipython",
    "version": 3
   },
   "file_extension": ".py",
   "mimetype": "text/x-python",
   "name": "python",
   "nbconvert_exporter": "python",
   "pygments_lexer": "ipython3",
   "version": "3.7.6"
  }
 },
 "nbformat": 4,
 "nbformat_minor": 1
}
